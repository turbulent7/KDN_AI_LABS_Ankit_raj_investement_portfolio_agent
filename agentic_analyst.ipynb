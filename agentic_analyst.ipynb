{
 "cells": [
  {
   "cell_type": "code",
   "execution_count": 1,
   "metadata": {},
   "outputs": [
    {
     "name": "stdout",
     "output_type": "stream",
     "text": [
      "ok\n"
     ]
    }
   ],
   "source": [
    "print(\"ok\")"
   ]
  },
  {
   "cell_type": "code",
   "execution_count": 2,
   "metadata": {},
   "outputs": [
    {
     "name": "stdout",
     "output_type": "stream",
     "text": [
      "Requirement already satisfied: openai in /opt/homebrew/Caskroom/miniconda/base/envs/invest_bot/lib/python3.10/site-packages (1.63.2)\n",
      "Requirement already satisfied: python-dotenv in /opt/homebrew/Caskroom/miniconda/base/envs/invest_bot/lib/python3.10/site-packages (1.0.1)\n",
      "Requirement already satisfied: langchain in /opt/homebrew/Caskroom/miniconda/base/envs/invest_bot/lib/python3.10/site-packages (0.3.19)\n",
      "Requirement already satisfied: langchain-openai in /opt/homebrew/Caskroom/miniconda/base/envs/invest_bot/lib/python3.10/site-packages (0.3.6)\n",
      "Requirement already satisfied: yfinance in /opt/homebrew/Caskroom/miniconda/base/envs/invest_bot/lib/python3.10/site-packages (0.2.54)\n",
      "Requirement already satisfied: phidata in /opt/homebrew/Caskroom/miniconda/base/envs/invest_bot/lib/python3.10/site-packages (2.7.10)\n",
      "Requirement already satisfied: anyio<5,>=3.5.0 in /opt/homebrew/Caskroom/miniconda/base/envs/invest_bot/lib/python3.10/site-packages (from openai) (4.8.0)\n",
      "Requirement already satisfied: distro<2,>=1.7.0 in /opt/homebrew/Caskroom/miniconda/base/envs/invest_bot/lib/python3.10/site-packages (from openai) (1.9.0)\n",
      "Requirement already satisfied: httpx<1,>=0.23.0 in /opt/homebrew/Caskroom/miniconda/base/envs/invest_bot/lib/python3.10/site-packages (from openai) (0.28.1)\n",
      "Requirement already satisfied: jiter<1,>=0.4.0 in /opt/homebrew/Caskroom/miniconda/base/envs/invest_bot/lib/python3.10/site-packages (from openai) (0.8.2)\n",
      "Requirement already satisfied: pydantic<3,>=1.9.0 in /opt/homebrew/Caskroom/miniconda/base/envs/invest_bot/lib/python3.10/site-packages (from openai) (2.10.6)\n",
      "Requirement already satisfied: sniffio in /opt/homebrew/Caskroom/miniconda/base/envs/invest_bot/lib/python3.10/site-packages (from openai) (1.3.1)\n",
      "Requirement already satisfied: tqdm>4 in /opt/homebrew/Caskroom/miniconda/base/envs/invest_bot/lib/python3.10/site-packages (from openai) (4.67.1)\n",
      "Requirement already satisfied: typing-extensions<5,>=4.11 in /opt/homebrew/Caskroom/miniconda/base/envs/invest_bot/lib/python3.10/site-packages (from openai) (4.12.2)\n",
      "Requirement already satisfied: langchain-core<1.0.0,>=0.3.35 in /opt/homebrew/Caskroom/miniconda/base/envs/invest_bot/lib/python3.10/site-packages (from langchain) (0.3.36)\n",
      "Requirement already satisfied: langchain-text-splitters<1.0.0,>=0.3.6 in /opt/homebrew/Caskroom/miniconda/base/envs/invest_bot/lib/python3.10/site-packages (from langchain) (0.3.6)\n",
      "Requirement already satisfied: langsmith<0.4,>=0.1.17 in /opt/homebrew/Caskroom/miniconda/base/envs/invest_bot/lib/python3.10/site-packages (from langchain) (0.3.8)\n",
      "Requirement already satisfied: SQLAlchemy<3,>=1.4 in /opt/homebrew/Caskroom/miniconda/base/envs/invest_bot/lib/python3.10/site-packages (from langchain) (2.0.38)\n",
      "Requirement already satisfied: requests<3,>=2 in /opt/homebrew/Caskroom/miniconda/base/envs/invest_bot/lib/python3.10/site-packages (from langchain) (2.32.3)\n",
      "Requirement already satisfied: PyYAML>=5.3 in /opt/homebrew/Caskroom/miniconda/base/envs/invest_bot/lib/python3.10/site-packages (from langchain) (6.0.2)\n",
      "Requirement already satisfied: aiohttp<4.0.0,>=3.8.3 in /opt/homebrew/Caskroom/miniconda/base/envs/invest_bot/lib/python3.10/site-packages (from langchain) (3.11.12)\n",
      "Requirement already satisfied: tenacity!=8.4.0,<10,>=8.1.0 in /opt/homebrew/Caskroom/miniconda/base/envs/invest_bot/lib/python3.10/site-packages (from langchain) (9.0.0)\n",
      "Requirement already satisfied: numpy<2,>=1.26.4 in /opt/homebrew/Caskroom/miniconda/base/envs/invest_bot/lib/python3.10/site-packages (from langchain) (1.26.4)\n",
      "Requirement already satisfied: async-timeout<5.0.0,>=4.0.0 in /opt/homebrew/Caskroom/miniconda/base/envs/invest_bot/lib/python3.10/site-packages (from langchain) (4.0.3)\n",
      "Requirement already satisfied: tiktoken<1,>=0.7 in /opt/homebrew/Caskroom/miniconda/base/envs/invest_bot/lib/python3.10/site-packages (from langchain-openai) (0.9.0)\n",
      "Requirement already satisfied: pandas>=1.3.0 in /opt/homebrew/Caskroom/miniconda/base/envs/invest_bot/lib/python3.10/site-packages (from yfinance) (2.2.3)\n",
      "Requirement already satisfied: multitasking>=0.0.7 in /opt/homebrew/Caskroom/miniconda/base/envs/invest_bot/lib/python3.10/site-packages (from yfinance) (0.0.11)\n",
      "Requirement already satisfied: platformdirs>=2.0.0 in /opt/homebrew/Caskroom/miniconda/base/envs/invest_bot/lib/python3.10/site-packages (from yfinance) (4.3.6)\n",
      "Requirement already satisfied: pytz>=2022.5 in /opt/homebrew/Caskroom/miniconda/base/envs/invest_bot/lib/python3.10/site-packages (from yfinance) (2025.1)\n",
      "Requirement already satisfied: frozendict>=2.3.4 in /opt/homebrew/Caskroom/miniconda/base/envs/invest_bot/lib/python3.10/site-packages (from yfinance) (2.4.6)\n",
      "Requirement already satisfied: peewee>=3.16.2 in /opt/homebrew/Caskroom/miniconda/base/envs/invest_bot/lib/python3.10/site-packages (from yfinance) (3.17.9)\n",
      "Requirement already satisfied: beautifulsoup4>=4.11.1 in /opt/homebrew/Caskroom/miniconda/base/envs/invest_bot/lib/python3.10/site-packages (from yfinance) (4.13.3)\n",
      "Requirement already satisfied: docstring-parser in /opt/homebrew/Caskroom/miniconda/base/envs/invest_bot/lib/python3.10/site-packages (from phidata) (0.16)\n",
      "Requirement already satisfied: gitpython in /opt/homebrew/Caskroom/miniconda/base/envs/invest_bot/lib/python3.10/site-packages (from phidata) (3.1.44)\n",
      "Requirement already satisfied: pydantic-settings in /opt/homebrew/Caskroom/miniconda/base/envs/invest_bot/lib/python3.10/site-packages (from phidata) (2.7.1)\n",
      "Requirement already satisfied: rich in /opt/homebrew/Caskroom/miniconda/base/envs/invest_bot/lib/python3.10/site-packages (from phidata) (13.9.4)\n",
      "Requirement already satisfied: tomli in /opt/homebrew/Caskroom/miniconda/base/envs/invest_bot/lib/python3.10/site-packages (from phidata) (2.2.1)\n",
      "Requirement already satisfied: typer in /opt/homebrew/Caskroom/miniconda/base/envs/invest_bot/lib/python3.10/site-packages (from phidata) (0.15.1)\n",
      "Requirement already satisfied: aiohappyeyeballs>=2.3.0 in /opt/homebrew/Caskroom/miniconda/base/envs/invest_bot/lib/python3.10/site-packages (from aiohttp<4.0.0,>=3.8.3->langchain) (2.4.6)\n",
      "Requirement already satisfied: aiosignal>=1.1.2 in /opt/homebrew/Caskroom/miniconda/base/envs/invest_bot/lib/python3.10/site-packages (from aiohttp<4.0.0,>=3.8.3->langchain) (1.3.2)\n",
      "Requirement already satisfied: attrs>=17.3.0 in /opt/homebrew/Caskroom/miniconda/base/envs/invest_bot/lib/python3.10/site-packages (from aiohttp<4.0.0,>=3.8.3->langchain) (25.1.0)\n",
      "Requirement already satisfied: frozenlist>=1.1.1 in /opt/homebrew/Caskroom/miniconda/base/envs/invest_bot/lib/python3.10/site-packages (from aiohttp<4.0.0,>=3.8.3->langchain) (1.5.0)\n",
      "Requirement already satisfied: multidict<7.0,>=4.5 in /opt/homebrew/Caskroom/miniconda/base/envs/invest_bot/lib/python3.10/site-packages (from aiohttp<4.0.0,>=3.8.3->langchain) (6.1.0)\n",
      "Requirement already satisfied: propcache>=0.2.0 in /opt/homebrew/Caskroom/miniconda/base/envs/invest_bot/lib/python3.10/site-packages (from aiohttp<4.0.0,>=3.8.3->langchain) (0.2.1)\n",
      "Requirement already satisfied: yarl<2.0,>=1.17.0 in /opt/homebrew/Caskroom/miniconda/base/envs/invest_bot/lib/python3.10/site-packages (from aiohttp<4.0.0,>=3.8.3->langchain) (1.18.3)\n",
      "Requirement already satisfied: exceptiongroup>=1.0.2 in /opt/homebrew/Caskroom/miniconda/base/envs/invest_bot/lib/python3.10/site-packages (from anyio<5,>=3.5.0->openai) (1.2.2)\n",
      "Requirement already satisfied: idna>=2.8 in /opt/homebrew/Caskroom/miniconda/base/envs/invest_bot/lib/python3.10/site-packages (from anyio<5,>=3.5.0->openai) (3.10)\n",
      "Requirement already satisfied: soupsieve>1.2 in /opt/homebrew/Caskroom/miniconda/base/envs/invest_bot/lib/python3.10/site-packages (from beautifulsoup4>=4.11.1->yfinance) (2.6)\n",
      "Requirement already satisfied: certifi in /opt/homebrew/Caskroom/miniconda/base/envs/invest_bot/lib/python3.10/site-packages (from httpx<1,>=0.23.0->openai) (2025.1.31)\n",
      "Requirement already satisfied: httpcore==1.* in /opt/homebrew/Caskroom/miniconda/base/envs/invest_bot/lib/python3.10/site-packages (from httpx<1,>=0.23.0->openai) (1.0.7)\n",
      "Requirement already satisfied: h11<0.15,>=0.13 in /opt/homebrew/Caskroom/miniconda/base/envs/invest_bot/lib/python3.10/site-packages (from httpcore==1.*->httpx<1,>=0.23.0->openai) (0.14.0)\n",
      "Requirement already satisfied: jsonpatch<2.0,>=1.33 in /opt/homebrew/Caskroom/miniconda/base/envs/invest_bot/lib/python3.10/site-packages (from langchain-core<1.0.0,>=0.3.35->langchain) (1.33)\n",
      "Requirement already satisfied: packaging<25,>=23.2 in /opt/homebrew/Caskroom/miniconda/base/envs/invest_bot/lib/python3.10/site-packages (from langchain-core<1.0.0,>=0.3.35->langchain) (24.2)\n",
      "Requirement already satisfied: orjson<4.0.0,>=3.9.14 in /opt/homebrew/Caskroom/miniconda/base/envs/invest_bot/lib/python3.10/site-packages (from langsmith<0.4,>=0.1.17->langchain) (3.10.15)\n",
      "Requirement already satisfied: requests-toolbelt<2.0.0,>=1.0.0 in /opt/homebrew/Caskroom/miniconda/base/envs/invest_bot/lib/python3.10/site-packages (from langsmith<0.4,>=0.1.17->langchain) (1.0.0)\n",
      "Requirement already satisfied: zstandard<0.24.0,>=0.23.0 in /opt/homebrew/Caskroom/miniconda/base/envs/invest_bot/lib/python3.10/site-packages (from langsmith<0.4,>=0.1.17->langchain) (0.23.0)\n",
      "Requirement already satisfied: python-dateutil>=2.8.2 in /opt/homebrew/Caskroom/miniconda/base/envs/invest_bot/lib/python3.10/site-packages (from pandas>=1.3.0->yfinance) (2.9.0.post0)\n",
      "Requirement already satisfied: tzdata>=2022.7 in /opt/homebrew/Caskroom/miniconda/base/envs/invest_bot/lib/python3.10/site-packages (from pandas>=1.3.0->yfinance) (2025.1)\n",
      "Requirement already satisfied: annotated-types>=0.6.0 in /opt/homebrew/Caskroom/miniconda/base/envs/invest_bot/lib/python3.10/site-packages (from pydantic<3,>=1.9.0->openai) (0.7.0)\n",
      "Requirement already satisfied: pydantic-core==2.27.2 in /opt/homebrew/Caskroom/miniconda/base/envs/invest_bot/lib/python3.10/site-packages (from pydantic<3,>=1.9.0->openai) (2.27.2)\n",
      "Requirement already satisfied: charset-normalizer<4,>=2 in /opt/homebrew/Caskroom/miniconda/base/envs/invest_bot/lib/python3.10/site-packages (from requests<3,>=2->langchain) (3.4.1)\n",
      "Requirement already satisfied: urllib3<3,>=1.21.1 in /opt/homebrew/Caskroom/miniconda/base/envs/invest_bot/lib/python3.10/site-packages (from requests<3,>=2->langchain) (2.3.0)\n",
      "Requirement already satisfied: regex>=2022.1.18 in /opt/homebrew/Caskroom/miniconda/base/envs/invest_bot/lib/python3.10/site-packages (from tiktoken<1,>=0.7->langchain-openai) (2024.11.6)\n",
      "Requirement already satisfied: gitdb<5,>=4.0.1 in /opt/homebrew/Caskroom/miniconda/base/envs/invest_bot/lib/python3.10/site-packages (from gitpython->phidata) (4.0.12)\n",
      "Requirement already satisfied: markdown-it-py>=2.2.0 in /opt/homebrew/Caskroom/miniconda/base/envs/invest_bot/lib/python3.10/site-packages (from rich->phidata) (3.0.0)\n",
      "Requirement already satisfied: pygments<3.0.0,>=2.13.0 in /opt/homebrew/Caskroom/miniconda/base/envs/invest_bot/lib/python3.10/site-packages (from rich->phidata) (2.19.1)\n",
      "Requirement already satisfied: click>=8.0.0 in /opt/homebrew/Caskroom/miniconda/base/envs/invest_bot/lib/python3.10/site-packages (from typer->phidata) (8.1.8)\n",
      "Requirement already satisfied: shellingham>=1.3.0 in /opt/homebrew/Caskroom/miniconda/base/envs/invest_bot/lib/python3.10/site-packages (from typer->phidata) (1.5.4)\n",
      "Requirement already satisfied: smmap<6,>=3.0.1 in /opt/homebrew/Caskroom/miniconda/base/envs/invest_bot/lib/python3.10/site-packages (from gitdb<5,>=4.0.1->gitpython->phidata) (5.0.2)\n",
      "Requirement already satisfied: jsonpointer>=1.9 in /opt/homebrew/Caskroom/miniconda/base/envs/invest_bot/lib/python3.10/site-packages (from jsonpatch<2.0,>=1.33->langchain-core<1.0.0,>=0.3.35->langchain) (3.0.0)\n",
      "Requirement already satisfied: mdurl~=0.1 in /opt/homebrew/Caskroom/miniconda/base/envs/invest_bot/lib/python3.10/site-packages (from markdown-it-py>=2.2.0->rich->phidata) (0.1.2)\n",
      "Requirement already satisfied: six>=1.5 in /opt/homebrew/Caskroom/miniconda/base/envs/invest_bot/lib/python3.10/site-packages (from python-dateutil>=2.8.2->pandas>=1.3.0->yfinance) (1.17.0)\n"
     ]
    }
   ],
   "source": [
    "!pip install openai python-dotenv langchain langchain-openai yfinance phidata"
   ]
  },
  {
   "cell_type": "code",
   "execution_count": 5,
   "metadata": {},
   "outputs": [],
   "source": [
    "os.environ[\"SERP_API_KEY\"] = os.getenv(\"SERP_API_KEY\")"
   ]
  },
  {
   "cell_type": "code",
   "execution_count": 4,
   "metadata": {},
   "outputs": [],
   "source": [
    "import os\n",
    "from dotenv import load_dotenv\n",
    "\n",
    "load_dotenv(dotenv_path='../.env')\n",
    "\n",
    "# Access the OPENAI_API_KEY from environment variables\n",
    "os.environ[\"OPENAI_API_KEY\"] = os.getenv(\"OPENAI_API_KEY\")\n",
    "\n",
    "\n"
   ]
  },
  {
   "cell_type": "code",
   "execution_count": 6,
   "metadata": {},
   "outputs": [],
   "source": [
    "from langchain_openai import ChatOpenAI\n",
    "\n",
    "llm = ChatOpenAI(model=\"gpt-4o-mini\")"
   ]
  },
  {
   "cell_type": "code",
   "execution_count": 7,
   "metadata": {},
   "outputs": [],
   "source": [
    "from langchain_openai import ChatOpenAI\n",
    "\n",
    "llm = ChatOpenAI(model=\"gpt-4o-mini\")"
   ]
  },
  {
   "cell_type": "code",
   "execution_count": 8,
   "metadata": {},
   "outputs": [
    {
     "name": "stderr",
     "output_type": "stream",
     "text": [
      "/var/folders/_y/bj2d0hld0z9b2sgf06km75p00000gn/T/ipykernel_48780/4112696623.py:24: LangChainDeprecationWarning: LangChain agents will continue to be supported, but it is recommended for new use cases to be built with LangGraph. LangGraph offers a more flexible and full-featured framework for building agents, including support for tool-calling, persistence of state, and human-in-the-loop workflows. For details, refer to the `LangGraph documentation <https://langchain-ai.github.io/langgraph/>`_ as well as guides for `Migrating from AgentExecutor <https://python.langchain.com/docs/how_to/migrate_agent/>`_ and LangGraph's `Pre-built ReAct agent <https://langchain-ai.github.io/langgraph/how-tos/create-react-agent/>`_.\n",
      "  agent = initialize_agent(\n"
     ]
    }
   ],
   "source": [
    "import yfinance as yf\n",
    "from langchain.agents import AgentType, Tool, initialize_agent\n",
    "from langchain_openai import ChatOpenAI\n",
    "\n",
    "# Initialize the language model\n",
    "llm = ChatOpenAI(temperature=0)\n",
    "\n",
    "# Define the function to get stock price\n",
    "def get_stock_price(symbol):\n",
    "    ticker = yf.Ticker(symbol)\n",
    "    todays_data = ticker.history(period='1d')\n",
    "    return f\"The current stock price of {symbol} is ${todays_data['Close'].iloc[-1]:.2f}\"\n",
    "\n",
    "# Create a tool for the agent to use\n",
    "tools = [\n",
    "    Tool(\n",
    "        name=\"StockPrice\",\n",
    "        func=get_stock_price,\n",
    "        description=\"Useful for getting the stock price of a company. The input should be the stock symbol of the company.\"\n",
    "    )\n",
    "]\n",
    "\n",
    "# Initialize the agent\n",
    "agent = initialize_agent(\n",
    "    tools, \n",
    "    llm, \n",
    "    agent=AgentType.ZERO_SHOT_REACT_DESCRIPTION,\n",
    "    verbose=True\n",
    ")\n",
    "\n",
    "# # Example usage\n",
    "# query = \"What's the current stock price of Microsoft?\"\n",
    "# response = agent.invoke(query)\n",
    "# print(response)"
   ]
  },
  {
   "cell_type": "code",
   "execution_count": 9,
   "metadata": {},
   "outputs": [],
   "source": [
    "from langchain_core.tools import tool, StructuredTool\n",
    "from datetime import date\n",
    "\n",
    "@tool\n",
    "def get_stock_price(symbol):\n",
    "    \"\"\"Use this tool to get the stock price of a company. The input should be the stock symbol of the company.\"\"\"\n",
    "    ticker = yf.Ticker(symbol)\n",
    "    todays_data = ticker.history(period='1d')\n",
    "    return f\"The current stock price of {symbol} is ${todays_data['Close'].iloc[-1]:.2f}\""
   ]
  },
  {
   "cell_type": "code",
   "execution_count": 10,
   "metadata": {},
   "outputs": [],
   "source": [
    "from langchain.agents import AgentExecutor, create_tool_calling_agent\n",
    "from langchain.prompts import ChatPromptTemplate\n",
    "from langchain_core.prompts import MessagesPlaceholder\n",
    "from langchain import hub\n",
    "\n",
    "tools = [get_stock_price]\n",
    "\n",
    "prompt = ChatPromptTemplate.from_messages(\n",
    "    [\n",
    "        (\n",
    "            \"system\",\n",
    "            \"You are a helpful assistant. Try to answer user query using available tools.\",\n",
    "        ),\n",
    "        MessagesPlaceholder(variable_name=\"messages\"),\n",
    "        MessagesPlaceholder(variable_name=\"agent_scratchpad\"),\n",
    "    ]\n",
    ")\n",
    "\n",
    "llm = ChatOpenAI(model = \"gpt-4o-mini\")\n",
    "\n",
    "finance_agent = create_tool_calling_agent(llm, tools, prompt)\n",
    "\n",
    "finance_agent_executor = AgentExecutor(agent=finance_agent, tools=tools, verbose=True)\n"
   ]
  },
  {
   "cell_type": "code",
   "execution_count": 9,
   "metadata": {},
   "outputs": [
    {
     "name": "stdout",
     "output_type": "stream",
     "text": [
      "\n",
      "\n",
      "\u001b[1m> Entering new AgentExecutor chain...\u001b[0m\n",
      "\u001b[32;1m\u001b[1;3m\n",
      "Invoking: `get_stock_price` with `{'symbol': 'AAPL'}`\n",
      "\n",
      "\n",
      "\u001b[0m\u001b[36;1m\u001b[1;3mThe current stock price of AAPL is $244.47\u001b[0m\u001b[32;1m\u001b[1;3mThe current stock price of Apple (AAPL) is $244.47.\u001b[0m\n",
      "\n",
      "\u001b[1m> Finished chain.\u001b[0m\n"
     ]
    },
    {
     "data": {
      "text/plain": [
       "{'messages': [HumanMessage(content='What is the stock price of Apple?', additional_kwargs={}, response_metadata={})],\n",
       " 'output': 'The current stock price of Apple (AAPL) is $244.47.'}"
      ]
     },
     "execution_count": 9,
     "metadata": {},
     "output_type": "execute_result"
    }
   ],
   "source": [
    "from langchain_core.messages import HumanMessage\n",
    "\n",
    "response = finance_agent_executor.invoke({\"messages\": [HumanMessage(content=\"What is the stock price of Apple?\")]})\n",
    "response"
   ]
  },
  {
   "cell_type": "code",
   "execution_count": 10,
   "metadata": {},
   "outputs": [
    {
     "name": "stdout",
     "output_type": "stream",
     "text": [
      "\n",
      "\n",
      "\u001b[1m> Entering new AgentExecutor chain...\u001b[0m\n",
      "\u001b[32;1m\u001b[1;3mThe last dividend date for Apple Inc. is not available through the current tools I have. However, you can check Apple's official investor relations website or financial news sources for the most accurate and up-to-date information regarding dividend dates.\u001b[0m\n",
      "\n",
      "\u001b[1m> Finished chain.\u001b[0m\n"
     ]
    },
    {
     "data": {
      "text/plain": [
       "{'messages': [HumanMessage(content='What is the last dividend date of Apple?', additional_kwargs={}, response_metadata={})],\n",
       " 'output': \"The last dividend date for Apple Inc. is not available through the current tools I have. However, you can check Apple's official investor relations website or financial news sources for the most accurate and up-to-date information regarding dividend dates.\"}"
      ]
     },
     "execution_count": 10,
     "metadata": {},
     "output_type": "execute_result"
    }
   ],
   "source": [
    "response = finance_agent_executor.invoke({\"messages\": [HumanMessage(content=\"What is the last dividend date of Apple?\")]})\n",
    "response"
   ]
  },
  {
   "cell_type": "code",
   "execution_count": 13,
   "metadata": {},
   "outputs": [],
   "source": [
    "from langchain_core.tools import tool, StructuredTool\n",
    "from datetime import date\n",
    "\n",
    "@tool\n",
    "def company_information(ticker: str) -> dict:\n",
    "    \"\"\"Use this tool to retrieve company information like address, industry, sector, company officers, business summary, website,\n",
    "       marketCap, current price, ebitda, total debt, total revenue, debt-to-equity, etc.\"\"\"\n",
    "    \n",
    "    ticker_obj = yf.Ticker(ticker)\n",
    "    ticker_info = ticker_obj.get_info()\n",
    "\n",
    "    return ticker_info\n",
    "\n",
    "@tool\n",
    "def last_dividend_and_earnings_date(ticker: str) -> dict:\n",
    "    \"\"\"\n",
    "    Use this tool to retrieve company's last dividend date and earnings release dates.\n",
    "    It does not provide information about historical dividend yields.\n",
    "    \"\"\"\n",
    "    ticker_obj = yf.Ticker(ticker)\n",
    "    \n",
    "    return ticker_obj.get_calendar()\n",
    "\n",
    "@tool\n",
    "def summary_of_mutual_fund_holders(ticker: str) -> dict:\n",
    "    \"\"\"\n",
    "    Use this tool to retrieve company's top mutual fund holders. \n",
    "    It also returns their percentage of share, stock count and value of holdings.\n",
    "    \"\"\"\n",
    "    ticker_obj = yf.Ticker(ticker)\n",
    "    mf_holders = ticker_obj.get_mutualfund_holders()\n",
    "    \n",
    "    return mf_holders.to_dict(orient=\"records\")\n",
    "\n",
    "@tool\n",
    "def summary_of_institutional_holders(ticker: str) -> dict:\n",
    "    \"\"\"\n",
    "    Use this tool to retrieve company's top institutional holders. \n",
    "    It also returns their percentage of share, stock count and value of holdings.\n",
    "    \"\"\"\n",
    "    ticker_obj = yf.Ticker(ticker)   \n",
    "    inst_holders = ticker_obj.get_institutional_holders()\n",
    "    \n",
    "    return inst_holders.to_dict(orient=\"records\")\n",
    "\n",
    "@tool\n",
    "def stock_grade_updrages_downgrades(ticker: str) -> dict:\n",
    "    \"\"\"\n",
    "    Use this to retrieve grade ratings upgrades and downgrades details of particular stock.\n",
    "    It'll provide name of firms along with 'To Grade' and 'From Grade' details. Grade date is also provided.\n",
    "    \"\"\"\n",
    "    ticker_obj = yf.Ticker(ticker)\n",
    "    \n",
    "    curr_year = date.today().year\n",
    "    \n",
    "    upgrades_downgrades = ticker_obj.get_upgrades_downgrades()\n",
    "    upgrades_downgrades = upgrades_downgrades.loc[upgrades_downgrades.index > f\"{curr_year}-01-01\"]\n",
    "    upgrades_downgrades = upgrades_downgrades[upgrades_downgrades[\"Action\"].isin([\"up\", \"down\"])]\n",
    "    \n",
    "    return upgrades_downgrades.to_dict(orient=\"records\")\n",
    "\n",
    "@tool\n",
    "def stock_splits_history(ticker: str) -> dict:\n",
    "    \"\"\"\n",
    "    Use this tool to retrieve company's historical stock splits data.\n",
    "    \"\"\"\n",
    "    ticker_obj = yf.Ticker(ticker)\n",
    "    hist_splits = ticker_obj.get_splits()\n",
    "    \n",
    "    return hist_splits.to_dict()\n",
    "\n",
    "@tool\n",
    "def stock_news(ticker: str) -> dict:\n",
    "    \"\"\"\n",
    "    Use this to retrieve latest news articles discussing particular stock ticker.\n",
    "    \"\"\"\n",
    "    ticker_obj = yf.Ticker(ticker)\n",
    "    \n",
    "    return ticker_obj.get_news()"
   ]
  },
  {
   "cell_type": "code",
   "execution_count": 14,
   "metadata": {},
   "outputs": [],
   "source": [
    "tools = [\n",
    "    company_information,\n",
    "    last_dividend_and_earnings_date,\n",
    "    stock_splits_history,\n",
    "    summary_of_mutual_fund_holders,\n",
    "    summary_of_institutional_holders, \n",
    "    stock_grade_updrages_downgrades,\n",
    "    stock_news,\n",
    "    get_stock_price\n",
    "]\n",
    "\n",
    "\n",
    "finance_agent = create_tool_calling_agent(llm, tools, prompt)\n",
    "\n",
    "finance_agent_executor = AgentExecutor(agent=finance_agent, tools=tools, verbose=True)"
   ]
  },
  {
   "cell_type": "code",
   "execution_count": 15,
   "metadata": {},
   "outputs": [
    {
     "name": "stdout",
     "output_type": "stream",
     "text": [
      "\n",
      "\n",
      "\u001b[1m> Entering new AgentExecutor chain...\u001b[0m\n",
      "\u001b[32;1m\u001b[1;3m\n",
      "Invoking: `last_dividend_and_earnings_date` with `{'ticker': 'AAPL'}`\n",
      "\n",
      "\n",
      "\u001b[0m\u001b[33;1m\u001b[1;3m{'Dividend Date': datetime.date(2025, 2, 13), 'Ex-Dividend Date': datetime.date(2025, 2, 10), 'Earnings Date': [datetime.date(2025, 4, 30), datetime.date(2025, 5, 5)], 'Earnings High': 1.67, 'Earnings Low': 1.5, 'Earnings Average': 1.61696, 'Revenue High': 97716000000, 'Revenue Low': 89370000000, 'Revenue Average': 94206162880}\u001b[0m\u001b[32;1m\u001b[1;3mThe last dividend date for Apple (AAPL) is February 13, 2025. The ex-dividend date is February 10, 2025.\u001b[0m\n",
      "\n",
      "\u001b[1m> Finished chain.\u001b[0m\n"
     ]
    },
    {
     "data": {
      "text/plain": [
       "{'messages': [HumanMessage(content='What is the last dividend date of Apple?', additional_kwargs={}, response_metadata={})],\n",
       " 'output': 'The last dividend date for Apple (AAPL) is February 13, 2025. The ex-dividend date is February 10, 2025.'}"
      ]
     },
     "execution_count": 15,
     "metadata": {},
     "output_type": "execute_result"
    }
   ],
   "source": [
    "response = finance_agent_executor.invoke({\"messages\": [HumanMessage(content=\"What is the last dividend date of Apple?\")]})\n",
    "response"
   ]
  },
  {
   "cell_type": "code",
   "execution_count": 16,
   "metadata": {},
   "outputs": [
    {
     "name": "stdout",
     "output_type": "stream",
     "text": [
      "\n",
      "\n",
      "\u001b[1m> Entering new AgentExecutor chain...\u001b[0m\n",
      "\u001b[32;1m\u001b[1;3m\n",
      "Invoking: `company_information` with `{'ticker': 'NVDA'}`\n",
      "\n",
      "\n",
      "\u001b[0m\u001b[36;1m\u001b[1;3m{'address1': '2788 San Tomas Expressway', 'city': 'Santa Clara', 'state': 'CA', 'zip': '95051', 'country': 'United States', 'phone': '408 486 2000', 'website': 'https://www.nvidia.com', 'industry': 'Semiconductors', 'industryKey': 'semiconductors', 'industryDisp': 'Semiconductors', 'sector': 'Technology', 'sectorKey': 'technology', 'sectorDisp': 'Technology', 'longBusinessSummary': \"NVIDIA Corporation provides graphics and compute and networking solutions in the United States, Taiwan, China, Hong Kong, and internationally. The Graphics segment offers GeForce GPUs for gaming and PCs, the GeForce NOW game streaming service and related infrastructure, and solutions for gaming platforms; Quadro/NVIDIA RTX GPUs for enterprise workstation graphics; virtual GPU or vGPU software for cloud-based visual and virtual computing; automotive platforms for infotainment systems; and Omniverse software for building and operating metaverse and 3D internet applications. The Compute & Networking segment comprises Data Center computing platforms and end-to-end networking platforms, including Quantum for InfiniBand and Spectrum for Ethernet; NVIDIA DRIVE automated-driving platform and automotive development agreements; Jetson robotics and other embedded platforms; NVIDIA AI Enterprise and other software; and DGX Cloud software and services. The company's products are used in gaming, professional visualization, data center, and automotive markets. It sells its products to original equipment manufacturers, original device manufacturers, system integrators and distributors, independent software vendors, cloud service providers, consumer internet companies, add-in board manufacturers, distributors, automotive manufacturers and tier-1 automotive suppliers, and other ecosystem participants. It has a strategic collaboration with IQVIA to help realize the potential of AI in healthcare and life sciences. NVIDIA Corporation was incorporated in 1993 and is headquartered in Santa Clara, California.\", 'fullTimeEmployees': 29600, 'companyOfficers': [{'maxAge': 1, 'name': 'Mr. Jen-Hsun  Huang', 'age': 61, 'title': 'Co-Founder, CEO, President & Director', 'yearBorn': 1963, 'fiscalYear': 2024, 'totalPay': 7491487, 'exercisedValue': 217327152, 'unexercisedValue': 0}, {'maxAge': 1, 'name': 'Ms. Colette M. Kress', 'age': 57, 'title': 'Executive VP & CFO', 'yearBorn': 1967, 'fiscalYear': 2024, 'totalPay': 1510765, 'exercisedValue': 0, 'unexercisedValue': 0}, {'maxAge': 1, 'name': 'Ms. Debora  Shoquist', 'age': 69, 'title': 'Executive Vice President of Operations', 'yearBorn': 1955, 'fiscalYear': 2024, 'totalPay': 1371266, 'exercisedValue': 0, 'unexercisedValue': 0}, {'maxAge': 1, 'name': 'Mr. Timothy S. Teter J.D.', 'age': 57, 'title': 'Executive VP, General Counsel & Secretary', 'yearBorn': 1967, 'fiscalYear': 2024, 'totalPay': 1360939, 'exercisedValue': 0, 'unexercisedValue': 0}, {'maxAge': 1, 'name': 'Mr. Ajay K. Puri', 'age': 69, 'title': 'Executive Vice President of Worldwide Field Operations', 'yearBorn': 1955, 'fiscalYear': 2024, 'totalPay': 2295097, 'exercisedValue': 0, 'unexercisedValue': 0}, {'maxAge': 1, 'name': 'Mr. Chris A. Malachowsky', 'title': 'Co-Founder', 'fiscalYear': 2024, 'totalPay': 320000, 'exercisedValue': 0, 'unexercisedValue': 0}, {'maxAge': 1, 'name': 'Mr. Donald F. Robertson Jr.', 'age': 55, 'title': 'VP & Chief Accounting Officer', 'yearBorn': 1969, 'fiscalYear': 2024, 'exercisedValue': 0, 'unexercisedValue': 0}, {'maxAge': 1, 'name': 'Prof. William J. Dally Ph.D.', 'age': 63, 'title': 'Chief Scientist & Senior VP of Research', 'yearBorn': 1961, 'fiscalYear': 2024, 'exercisedValue': 0, 'unexercisedValue': 0}, {'maxAge': 1, 'name': 'Ms. Mylene  Mangalindan', 'title': 'VP of Corporate Communications', 'fiscalYear': 2024, 'exercisedValue': 0, 'unexercisedValue': 0}, {'maxAge': 1, 'name': 'Mr. Tommy  Lee', 'title': 'Senior Vice President of Systems Engineering & Application', 'fiscalYear': 2024, 'exercisedValue': 0, 'unexercisedValue': 0}], 'auditRisk': 9, 'boardRisk': 10, 'compensationRisk': 3, 'shareHolderRightsRisk': 6, 'overallRisk': 8, 'governanceEpochDate': 1738368000, 'compensationAsOfEpochDate': 1735603200, 'irWebsite': 'http://phx.corporate-ir.net/phoenix.zhtml?c=116466&p=irol-IRHome', 'executiveTeam': [], 'maxAge': 86400, 'priceHint': 2, 'previousClose': 138.85, 'open': 141.25, 'dayLow': 137.925, 'dayHigh': 143.44, 'regularMarketPreviousClose': 138.85, 'regularMarketOpen': 141.25, 'regularMarketDayLow': 137.925, 'regularMarketDayHigh': 143.44, 'dividendRate': 0.04, 'dividendYield': 0.03, 'exDividendDate': 1733356800, 'payoutRatio': 0.0111, 'fiveYearAvgDividendYield': 0.08, 'beta': 1.619, 'trailingPE': 54.88189, 'forwardPE': 33.83495, 'volume': 216892114, 'regularMarketVolume': 216892114, 'averageVolume': 244481372, 'averageVolume10days': 216600930, 'averageDailyVolume10Day': 216600930, 'bid': 131.37, 'ask': 145.57, 'bidSize': 1, 'askSize': 1, 'marketCap': 3413906030592, 'fiftyTwoWeekLow': 66.248, 'fiftyTwoWeekHigh': 153.13, 'priceToSalesTrailing12Months': 30.139809, 'fiftyDayAverage': 134.9374, 'twoHundredDayAverage': 125.046936, 'trailingAnnualDividendRate': 0.028, 'trailingAnnualDividendYield': 0.00020165645, 'currency': 'USD', 'tradeable': False, 'enterpriseValue': 3385644023808, 'profitMargins': 0.55685, 'floatShares': 23503787700, 'sharesOutstanding': 24490000384, 'sharesShort': 271436938, 'sharesShortPriorMonth': 287895394, 'sharesShortPreviousMonthDate': 1735603200, 'dateShortInterest': 1738281600, 'sharesPercentSharesOut': 0.0111, 'heldPercentInsiders': 0.044689998, 'heldPercentInstitutions': 0.67138, 'shortRatio': 0.93, 'shortPercentOfFloat': 0.0116, 'impliedSharesOutstanding': 25424199680, 'bookValue': 2.689, 'priceToBook': 51.84083, 'lastFiscalYearEnd': 1706400000, 'nextFiscalYearEnd': 1738022400, 'mostRecentQuarter': 1729987200, 'earningsQuarterlyGrowth': 1.089, 'netIncomeToCommon': 63074000896, 'trailingEps': 2.54, 'forwardEps': 4.12, 'lastSplitFactor': '10:1', 'lastSplitDate': 1717977600, 'enterpriseToRevenue': 29.89, 'enterpriseToEbitda': 46.544, '52WeekChange': 1.0660422, 'SandP52WeekChange': 0.2303946, 'lastDividendValue': 0.01, 'lastDividendDate': 1733356800, 'quoteType': 'EQUITY', 'currentPrice': 139.4, 'targetHighPrice': 220.0, 'targetLowPrice': 120.0, 'targetMeanPrice': 171.8948, 'targetMedianPrice': 175.0, 'recommendationMean': 1.30645, 'recommendationKey': 'strong_buy', 'numberOfAnalystOpinions': 54, 'totalCash': 38486999040, 'totalCashPerShare': 1.572, 'ebitda': 72741003264, 'totalDebt': 10225000448, 'quickRatio': 3.409, 'currentRatio': 4.105, 'totalRevenue': 113268998144, 'debtToEquity': 15.516, 'revenuePerShare': 4.605, 'returnOnAssets': 0.59131, 'returnOnEquity': 1.27211, 'grossProfits': 85926002688, 'freeCashflow': 41753001984, 'operatingCashflow': 58958999552, 'earningsGrowth': 1.108, 'revenueGrowth': 0.936, 'grossMargins': 0.7586, 'ebitdaMargins': 0.6422, 'operatingMargins': 0.62337, 'financialCurrency': 'USD', 'symbol': 'NVDA', 'language': 'en-US', 'region': 'US', 'typeDisp': 'Equity', 'quoteSourceName': 'Nasdaq Real Time Price', 'triggerable': True, 'customPriceAlertConfidence': 'HIGH', 'marketState': 'PRE', 'corporateActions': [], 'preMarketTime': 1739967600, 'regularMarketTime': 1739912400, 'exchange': 'NMS', 'messageBoardId': 'finmb_32307', 'exchangeTimezoneName': 'America/New_York', 'exchangeTimezoneShortName': 'EST', 'gmtOffSetMilliseconds': -18000000, 'market': 'us_market', 'esgPopulated': False, 'regularMarketChangePercent': 0.3961021, 'regularMarketPrice': 139.4, 'shortName': 'NVIDIA Corporation', 'longName': 'NVIDIA Corporation', 'hasPrePostMarketData': True, 'firstTradeDateMilliseconds': 917015400000, 'preMarketChange': 0.68000793, 'preMarketChangePercent': 0.48781058, 'preMarketPrice': 140.08, 'regularMarketChange': 0.5499878, 'regularMarketDayRange': '137.925 - 143.44', 'fullExchangeName': 'NasdaqGS', 'averageDailyVolume3Month': 244481372, 'fiftyTwoWeekLowChange': 73.15199, 'fiftyTwoWeekLowChangePercent': 1.1042143, 'fiftyTwoWeekRange': '66.248 - 153.13', 'fiftyTwoWeekHighChange': -13.730011, 'fiftyTwoWeekHighChangePercent': -0.08966245, 'fiftyTwoWeekChangePercent': 106.60422, 'dividendDate': 1735257600, 'earningsTimestamp': 1740603600, 'earningsTimestampStart': 1740603600, 'earningsTimestampEnd': 1740603600, 'earningsCallTimestampStart': 1740607200, 'earningsCallTimestampEnd': 1740607200, 'isEarningsDateEstimate': False, 'epsTrailingTwelveMonths': 2.54, 'epsForward': 4.12, 'epsCurrentYear': 2.95242, 'priceEpsCurrentYear': 47.215504, 'fiftyDayAverageChange': 4.4626007, 'fiftyDayAverageChangePercent': 0.033071637, 'twoHundredDayAverageChange': 14.353058, 'twoHundredDayAverageChangePercent': 0.114781365, 'sourceInterval': 15, 'exchangeDataDelayedBy': 0, 'prevName': 'Usual Stablecoin', 'nameChangeDate': '2025-02-18', 'averageAnalystRating': '1.3 - Strong Buy', 'cryptoTradeable': False, 'displayName': 'NVIDIA', 'trailingPegRatio': 0.9991}\u001b[0m\u001b[32;1m\u001b[1;3mFor Nvidia Corporation (ticker: NVDA), here are the financial figures you requested:\n",
      "\n",
      "- **EBITDA**: $72,741,003,264\n",
      "- **Total Debt**: $10,225,000,448\n",
      "- **Total Revenue**: $113,268,998,144\n",
      "- **Debt-to-Equity Ratio**: 15.516\n",
      "\n",
      "If you need more information or further assistance, feel free to ask!\u001b[0m\n",
      "\n",
      "\u001b[1m> Finished chain.\u001b[0m\n"
     ]
    },
    {
     "data": {
      "text/plain": [
       "{'messages': [HumanMessage(content='What are ebitda, total debt, total revenue and debt-to-equity for Nvidia stock?', additional_kwargs={}, response_metadata={})],\n",
       " 'output': 'For Nvidia Corporation (ticker: NVDA), here are the financial figures you requested:\\n\\n- **EBITDA**: $72,741,003,264\\n- **Total Debt**: $10,225,000,448\\n- **Total Revenue**: $113,268,998,144\\n- **Debt-to-Equity Ratio**: 15.516\\n\\nIf you need more information or further assistance, feel free to ask!'}"
      ]
     },
     "execution_count": 16,
     "metadata": {},
     "output_type": "execute_result"
    }
   ],
   "source": [
    "response = finance_agent_executor.invoke({\"messages\": [HumanMessage(content=\"What are ebitda, total debt, total revenue and debt-to-equity for Nvidia stock?\")]})\n",
    "response"
   ]
  },
  {
   "cell_type": "code",
   "execution_count": 17,
   "metadata": {},
   "outputs": [],
   "source": [
    "# Create a dummy portfolio of 5 stocks\n",
    "# portfolio = {\n",
    "#     'AAPL': 50,  # Apple\n",
    "#     'MSFT': 30,  # Microsoft\n",
    "#     'GOOGL': 20, # Alphabet (Google)\n",
    "#     'AMZN': 15,  # Amazon\n",
    "#     'NVDA': 25   # NVIDIA\n",
    "# }\n",
    "\n",
    "# Function to analyze a single stock\n",
    "def analyze_stock(ticker: str, shares: int):\n",
    "    response = finance_agent_executor.invoke({\n",
    "        \"messages\": [\n",
    "            HumanMessage(content=f\"Provide a brief analysis of {ticker} including current price, P/E ratio, and recent performance.\")\n",
    "        ]\n",
    "    })\n",
    "    return f\"{ticker} ({shares} shares): {response['output']}\"\n",
    "\n",
    "# Function to analyze the entire portfolio\n",
    "def analyze_portfolio(portfolio: dict):\n",
    "    analysis = []\n",
    "    total_value = 0\n",
    "\n",
    "    for ticker, shares in portfolio.items():\n",
    "        stock_analysis = analyze_stock(ticker, shares)\n",
    "        analysis.append(stock_analysis)\n",
    "\n",
    "        # Get current price to calculate portfolio value\n",
    "        price_response = finance_agent_executor.invoke({\n",
    "            \"messages\": [\n",
    "                HumanMessage(content=f\"What is the current stock price of {ticker}?\")\n",
    "            ]\n",
    "        })\n",
    "        try:\n",
    "            price = float(price_response['output'].split('$')[1].split()[0])\n",
    "            total_value += price * shares\n",
    "        except:\n",
    "            print(f\"Could not parse price for {ticker}\")\n",
    "\n",
    "    return analysis, total_value\n",
    "\n",
    "# # Analyze the portfolio\n",
    "# print(\"Analyzing portfolio...\")\n",
    "# stock_analyses, portfolio_value = analyze_portfolio(portfolio)\n",
    "\n",
    "# # Print the results\n",
    "# print(\"\\nPortfolio Analysis:\")\n",
    "# for analysis in stock_analyses:\n",
    "#     print(analysis)\n",
    "#     print(\"-\" * 50)"
   ]
  }
 ],
 "metadata": {
  "kernelspec": {
   "display_name": "invest_bot",
   "language": "python",
   "name": "python3"
  },
  "language_info": {
   "codemirror_mode": {
    "name": "ipython",
    "version": 3
   },
   "file_extension": ".py",
   "mimetype": "text/x-python",
   "name": "python",
   "nbconvert_exporter": "python",
   "pygments_lexer": "ipython3",
   "version": "3.10.16"
  }
 },
 "nbformat": 4,
 "nbformat_minor": 2
}
